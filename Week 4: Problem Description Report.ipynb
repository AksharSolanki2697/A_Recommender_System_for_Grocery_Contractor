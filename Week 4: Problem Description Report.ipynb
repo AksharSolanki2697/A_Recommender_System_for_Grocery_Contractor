{
    "nbformat_minor": 1, 
    "cells": [
        {
            "source": "<h1>A Recommender System for Grocery Contractor </h1>", 
            "cell_type": "markdown", 
            "metadata": {
                "collapsed": true
            }
        }, 
        {
            "source": "<h3> Introduction: </h3>", 
            "cell_type": "markdown", 
            "metadata": {}
        }, 
        {
            "source": "The skills of a data scientist are not limited to any particular field rather, they can be used to solve real world problems using data analysis insights. This report tries to solve a similar problem faced by various grocery contractors as to where to place their warehouses. The location of the warehouse plays a very important role in the profits of the contractor.  A groceries contractor therefore, needs to be very decisive with where he places one of his warehouses. However, there are many factors which he needs to take into consideration to maximize his clients and therefore his profits.\n\nOn top of that, potential clients of the contractor can also take advantage of the location. Groceries are perishable items and are best if delivered fresh. Therefore the contractor must think in a way that makes his warehouse deliver the best product at the best price and at the best time. The delivery time will also play an important role in the freshness of the product since, Toronto is a highly populated city and traffic times can lead to disastrous consequences. For eg: If his warehouse is far away from his clients, not only will this have an effect on the delivery time but also the freshness of his product. Eventually, he can end up losing the client also. Therefore, as a smart person, he must think of the location very strategically. The contractor must therefore find out the successful restaurants, cafes and  supermarkets which will require groceries and then lock out the area which will be nearest to the maximum of these and place his warehouse there. It is job to continuously deliver the best quality of products to maintian his clients. In here, we assume, he has already decided to go with a specific Borough.", 
            "cell_type": "markdown", 
            "metadata": {}
        }, 
        {
            "source": "<h3> Data Requirements</h3>", 
            "cell_type": "markdown", 
            "metadata": {}
        }, 
        {
            "source": "We will need geo-locational information about that specific borough and the neighborhoods in that borough. We specifically and technically mean the latitude and longitude numbers of that borough. We assume that it is \"Scarborough\" in Toronto. This is easily provided for us by the contractor, because the contractor has already made up his mind about the borough. The Postal Codes that fall into that borough (Scarborough) would also be sufficient fo us. I fact we will first find neighborhoods inside Scarborough by their corresponding Postal Codes.\n\nWe will need data about different venues in different neighborhoods of that specific borough. In order to gain that information we will use \"Foursquare\" locational information. By locational information for each venue we mean basic and advanced information about that venue. For example there is a venue in one of the neighborhoods. As basic information, we can obtain its precise latitude and longitude and also its distance from the center of the neighborhood. But we are looking for advanced information such as the category of that venue and whether this venue is a popular one in its category or maybe the average price of the services of this venue. A typical request from Foursquare will provide us with the following information:\u00b6\n<h2>[Postal Code] [Neighborhood(s)] [Neighborhood Latitude] [Neighborhood Longitude] [Venue] [Venue Summary] [Venue Category] [Distance (meter)]</h2>", 
            "cell_type": "markdown", 
            "metadata": {}
        }
    ], 
    "metadata": {
        "kernelspec": {
            "display_name": "Python 3.5", 
            "name": "python3", 
            "language": "python"
        }, 
        "language_info": {
            "mimetype": "text/x-python", 
            "nbconvert_exporter": "python", 
            "version": "3.5.5", 
            "name": "python", 
            "file_extension": ".py", 
            "pygments_lexer": "ipython3", 
            "codemirror_mode": {
                "version": 3, 
                "name": "ipython"
            }
        }
    }, 
    "nbformat": 4
}